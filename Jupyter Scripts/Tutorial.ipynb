{
 "cells": [
  {
   "cell_type": "markdown",
   "metadata": {},
   "source": [
    "Resources Used\n",
    "- wget.download('https://tensorflow-object-detection-api-tutorial.readthedocs.io/en/latest/_downloads/da4babe668a8afb093cc7776d7e630f3/generate_tfrecord.py')\n",
    "- Setup https://tensorflow-object-detection-api-tutorial.readthedocs.io/en/latest/install.html"
   ]
  },
  {
   "cell_type": "markdown",
   "metadata": {},
   "source": [
    "# 0. Setup Paths"
   ]
  },
  {
   "cell_type": "code",
   "execution_count": 1,
   "metadata": {},
   "outputs": [],
   "source": [
    "WORKSPACE_PATH = 'Tensorflow/workspace'\n",
    "SCRIPTS_PATH = 'Tensorflow/scripts'\n",
    "APIMODEL_PATH = 'Tensorflow/models'\n",
    "ANNOTATION_PATH = WORKSPACE_PATH+'/annotations'\n",
    "IMAGE_PATH = WORKSPACE_PATH+'/images'\n",
    "MODEL_PATH = WORKSPACE_PATH+'/models'\n",
    "PRETRAINED_MODEL_PATH = WORKSPACE_PATH+'/pre-trained-models'\n",
    "CONFIG_PATH = MODEL_PATH+'/my_ssd_mobnet/pipeline.config'\n",
    "CHECKPOINT_PATH = MODEL_PATH+'/my_ssd_mobnet/'"
   ]
  },
  {
   "cell_type": "code",
   "execution_count": 2,
   "metadata": {},
   "outputs": [
    {
     "data": {
      "text/plain": [
       "['C:\\\\Projects\\\\python\\\\Game-SignLanguage\\\\RealTimeObjectDetection\\\\Tensorflow\\\\models\\research',\n",
       " 'C:\\\\Projects\\\\python\\\\Game-SignLanguage\\\\RealTimeObjectDetection',\n",
       " 'C:\\\\Users\\\\Heidi\\\\anaconda3\\\\python38.zip',\n",
       " 'C:\\\\Users\\\\Heidi\\\\anaconda3\\\\DLLs',\n",
       " 'C:\\\\Users\\\\Heidi\\\\anaconda3\\\\lib',\n",
       " 'C:\\\\Users\\\\Heidi\\\\anaconda3',\n",
       " '',\n",
       " 'C:\\\\Users\\\\Heidi\\\\anaconda3\\\\lib\\\\site-packages',\n",
       " 'C:\\\\Users\\\\Heidi\\\\anaconda3\\\\lib\\\\site-packages\\\\win32',\n",
       " 'C:\\\\Users\\\\Heidi\\\\anaconda3\\\\lib\\\\site-packages\\\\win32\\\\lib',\n",
       " 'C:\\\\Users\\\\Heidi\\\\anaconda3\\\\lib\\\\site-packages\\\\Pythonwin',\n",
       " 'C:\\\\Users\\\\Heidi\\\\anaconda3\\\\lib\\\\site-packages\\\\IPython\\\\extensions',\n",
       " 'C:\\\\Users\\\\Heidi\\\\.ipython']"
      ]
     },
     "execution_count": 2,
     "metadata": {},
     "output_type": "execute_result"
    }
   ],
   "source": [
    "import sys\n",
    "sys.path.insert(0, 'C:\\Projects\\python\\Game-SignLanguage\\RealTimeObjectDetection\\Tensorflow\\models\\research')\n",
    "sys.path"
   ]
  },
  {
   "cell_type": "markdown",
   "metadata": {},
   "source": [
    "# 1. Create Label Map"
   ]
  },
  {
   "cell_type": "code",
   "execution_count": null,
   "metadata": {},
   "outputs": [],
   "source": [
    "labels = [{'name': 'a', 'id': 1},\n",
    "         {'name': 'b', 'id': 2},\n",
    "         {'name': 'c', 'id': 3},\n",
    "         {'name': 'd', 'id': 4},\n",
    "         {'name': 'e', 'id': 5},\n",
    "         {'name': 'f', 'id': 6},\n",
    "         {'name': 'g', 'id': 7},\n",
    "         {'name': 'h', 'id': 8},\n",
    "         {'name': 'i', 'id': 9},\n",
    "         {'name': 'j', 'id': 10},\n",
    "         {'name': 'k', 'id': 11},\n",
    "         {'name': 'l', 'id': 12},\n",
    "         {'name': 'm', 'id': 13},\n",
    "         {'name': 'n', 'id': 14},\n",
    "         {'name': 'o', 'id': 15},\n",
    "         {'name': 'p', 'id': 16},\n",
    "         {'name': 'q', 'id': 17},\n",
    "         {'name': 'r', 'id': 18},\n",
    "         {'name': 's', 'id': 19},\n",
    "         {'name': 't', 'id': 20},\n",
    "         {'name': 'u', 'id': 21},\n",
    "         {'name': 'v', 'id': 22},\n",
    "         {'name': 'w', 'id': 23},\n",
    "         {'name': 'x', 'id': 24},\n",
    "         {'name': 'y', 'id': 25},\n",
    "         {'name': 'z', 'id': 26}\n",
    "]\n",
    "\n",
    "with open(ANNOTATION_PATH + '\\label_map.pbtxt', 'w') as f:\n",
    "    for label in labels:\n",
    "        f.write('item { \\n')\n",
    "        f.write('\\tname:\\'{}\\'\\n'.format(label['name']))\n",
    "        f.write('\\tid:{}\\n'.format(label['id']))\n",
    "        f.write('}\\n')"
   ]
  },
  {
   "cell_type": "markdown",
   "metadata": {},
   "source": [
    "# 2. Create TF records"
   ]
  },
  {
   "cell_type": "code",
   "execution_count": 3,
   "metadata": {},
   "outputs": [],
   "source": [
    "import os"
   ]
  },
  {
   "cell_type": "code",
   "execution_count": null,
   "metadata": {},
   "outputs": [],
   "source": [
    "!python {SCRIPTS_PATH + '/generate_tfrecord.py'} -x {IMAGE_PATH + '/train'} -l {ANNOTATION_PATH + '/label_map.pbtxt'} -o {ANNOTATION_PATH + '/train.record'}\n",
    "!python {SCRIPTS_PATH + '/generate_tfrecord.py'} -x {IMAGE_PATH + '/test'} -l {ANNOTATION_PATH + '/label_map.pbtxt'} -o {ANNOTATION_PATH + '/test.record'}"
   ]
  },
  {
   "cell_type": "markdown",
   "metadata": {},
   "source": [
    "# 3. Download TF Models Pretrained Models from Tensorflow Model Zoo"
   ]
  },
  {
   "cell_type": "code",
   "execution_count": null,
   "metadata": {},
   "outputs": [],
   "source": [
    "!cd Tensorflow && git clone https://github.com/tensorflow/models"
   ]
  },
  {
   "cell_type": "code",
   "execution_count": null,
   "metadata": {},
   "outputs": [],
   "source": [
    "#wget.download('http://download.tensorflow.org/models/object_detection/tf2/20200711/ssd_mobilenet_v2_fpnlite_320x320_coco17_tpu-8.tar.gz')\n",
    "#!mv ssd_mobilenet_v2_fpnlite_320x320_coco17_tpu-8.tar.gz {PRETRAINED_MODEL_PATH}\n",
    "#!cd {PRETRAINED_MODEL_PATH} && tar -zxvf ssd_mobilenet_v2_fpnlite_320x320_coco17_tpu-8.tar.gz"
   ]
  },
  {
   "cell_type": "markdown",
   "metadata": {},
   "source": [
    "# 4. Copy Model Config to Training Folder"
   ]
  },
  {
   "cell_type": "code",
   "execution_count": 4,
   "metadata": {},
   "outputs": [],
   "source": [
    "CUSTOM_MODEL_NAME = 'my_ssd_mobnet' "
   ]
  },
  {
   "cell_type": "code",
   "execution_count": null,
   "metadata": {},
   "outputs": [],
   "source": [
    "print(PRETRAINED_MODEL_PATH+'/ssd_mobilenet_v2_fpnlite_320x320_coco17_tpu-8/pipeline.config')\n",
    "print(MODEL_PATH+'/'+CUSTOM_MODEL_NAME)"
   ]
  },
  {
   "cell_type": "code",
   "execution_count": null,
   "metadata": {},
   "outputs": [],
   "source": [
    "!mkdir {'Tensorflow\\workspace\\models\\\\'+CUSTOM_MODEL_NAME}\n",
    "!cp {PRETRAINED_MODEL_PATH+'/ssd_mobilenet_v2_fpnlite_320x320_coco17_tpu-8/pipeline.config'} {MODEL_PATH+'/'+CUSTOM_MODEL_NAME}"
   ]
  },
  {
   "cell_type": "markdown",
   "metadata": {},
   "source": [
    "# 5. Update Config For Transfer Learning"
   ]
  },
  {
   "cell_type": "code",
   "execution_count": 6,
   "metadata": {
    "scrolled": true
   },
   "outputs": [
    {
     "data": {
      "text/plain": [
       "['C:\\\\Projects\\\\python\\\\Game-SignLanguage\\\\RealTimeObjectDetection\\\\Tensorflow\\\\models\\\\research',\n",
       " 'C:\\\\Projects\\\\python\\\\Game-SignLanguage\\\\RealTimeObjectDetection\\\\Tensorflow\\\\models\\research',\n",
       " 'C:\\\\Projects\\\\python\\\\Game-SignLanguage\\\\RealTimeObjectDetection',\n",
       " 'C:\\\\Users\\\\Heidi\\\\anaconda3\\\\python38.zip',\n",
       " 'C:\\\\Users\\\\Heidi\\\\anaconda3\\\\DLLs',\n",
       " 'C:\\\\Users\\\\Heidi\\\\anaconda3\\\\lib',\n",
       " 'C:\\\\Users\\\\Heidi\\\\anaconda3',\n",
       " '',\n",
       " 'C:\\\\Users\\\\Heidi\\\\anaconda3\\\\lib\\\\site-packages',\n",
       " 'C:\\\\Users\\\\Heidi\\\\anaconda3\\\\lib\\\\site-packages\\\\win32',\n",
       " 'C:\\\\Users\\\\Heidi\\\\anaconda3\\\\lib\\\\site-packages\\\\win32\\\\lib',\n",
       " 'C:\\\\Users\\\\Heidi\\\\anaconda3\\\\lib\\\\site-packages\\\\Pythonwin',\n",
       " 'C:\\\\Users\\\\Heidi\\\\anaconda3\\\\lib\\\\site-packages\\\\IPython\\\\extensions',\n",
       " 'C:\\\\Users\\\\Heidi\\\\.ipython']"
      ]
     },
     "execution_count": 6,
     "metadata": {},
     "output_type": "execute_result"
    }
   ],
   "source": [
    "sys.path.insert(0, 'C:\\\\Projects\\\\python\\\\Game-SignLanguage\\\\RealTimeObjectDetection\\\\Tensorflow\\\\models\\\\research')\n",
    "sys.path"
   ]
  },
  {
   "cell_type": "code",
   "execution_count": 7,
   "metadata": {},
   "outputs": [],
   "source": [
    "import tensorflow as tf\n",
    "from object_detection.utils import config_util\n",
    "from object_detection.protos import pipeline_pb2\n",
    "from google.protobuf import text_format"
   ]
  },
  {
   "cell_type": "code",
   "execution_count": 8,
   "metadata": {},
   "outputs": [],
   "source": [
    "CONFIG_PATH = MODEL_PATH+'/'+CUSTOM_MODEL_NAME+'/pipeline.config'"
   ]
  },
  {
   "cell_type": "code",
   "execution_count": 9,
   "metadata": {},
   "outputs": [],
   "source": [
    "config = config_util.get_configs_from_pipeline_file(CONFIG_PATH)"
   ]
  },
  {
   "cell_type": "code",
   "execution_count": 10,
   "metadata": {},
   "outputs": [
    {
     "data": {
      "text/plain": [
       "{'model': ssd {\n",
       "   num_classes: 2\n",
       "   image_resizer {\n",
       "     fixed_shape_resizer {\n",
       "       height: 320\n",
       "       width: 320\n",
       "     }\n",
       "   }\n",
       "   feature_extractor {\n",
       "     type: \"ssd_mobilenet_v2_fpn_keras\"\n",
       "     depth_multiplier: 1.0\n",
       "     min_depth: 16\n",
       "     conv_hyperparams {\n",
       "       regularizer {\n",
       "         l2_regularizer {\n",
       "           weight: 4e-05\n",
       "         }\n",
       "       }\n",
       "       initializer {\n",
       "         random_normal_initializer {\n",
       "           mean: 0.0\n",
       "           stddev: 0.01\n",
       "         }\n",
       "       }\n",
       "       activation: RELU_6\n",
       "       batch_norm {\n",
       "         decay: 0.997\n",
       "         scale: true\n",
       "         epsilon: 0.001\n",
       "       }\n",
       "     }\n",
       "     use_depthwise: true\n",
       "     override_base_feature_extractor_hyperparams: true\n",
       "     fpn {\n",
       "       min_level: 3\n",
       "       max_level: 7\n",
       "       additional_layer_depth: 128\n",
       "     }\n",
       "   }\n",
       "   box_coder {\n",
       "     faster_rcnn_box_coder {\n",
       "       y_scale: 10.0\n",
       "       x_scale: 10.0\n",
       "       height_scale: 5.0\n",
       "       width_scale: 5.0\n",
       "     }\n",
       "   }\n",
       "   matcher {\n",
       "     argmax_matcher {\n",
       "       matched_threshold: 0.5\n",
       "       unmatched_threshold: 0.5\n",
       "       ignore_thresholds: false\n",
       "       negatives_lower_than_unmatched: true\n",
       "       force_match_for_each_row: true\n",
       "       use_matmul_gather: true\n",
       "     }\n",
       "   }\n",
       "   similarity_calculator {\n",
       "     iou_similarity {\n",
       "     }\n",
       "   }\n",
       "   box_predictor {\n",
       "     weight_shared_convolutional_box_predictor {\n",
       "       conv_hyperparams {\n",
       "         regularizer {\n",
       "           l2_regularizer {\n",
       "             weight: 4e-05\n",
       "           }\n",
       "         }\n",
       "         initializer {\n",
       "           random_normal_initializer {\n",
       "             mean: 0.0\n",
       "             stddev: 0.01\n",
       "           }\n",
       "         }\n",
       "         activation: RELU_6\n",
       "         batch_norm {\n",
       "           decay: 0.997\n",
       "           scale: true\n",
       "           epsilon: 0.001\n",
       "         }\n",
       "       }\n",
       "       depth: 128\n",
       "       num_layers_before_predictor: 4\n",
       "       kernel_size: 3\n",
       "       class_prediction_bias_init: -4.6\n",
       "       share_prediction_tower: true\n",
       "       use_depthwise: true\n",
       "     }\n",
       "   }\n",
       "   anchor_generator {\n",
       "     multiscale_anchor_generator {\n",
       "       min_level: 3\n",
       "       max_level: 7\n",
       "       anchor_scale: 4.0\n",
       "       aspect_ratios: 1.0\n",
       "       aspect_ratios: 2.0\n",
       "       aspect_ratios: 0.5\n",
       "       scales_per_octave: 2\n",
       "     }\n",
       "   }\n",
       "   post_processing {\n",
       "     batch_non_max_suppression {\n",
       "       score_threshold: 1e-08\n",
       "       iou_threshold: 0.6\n",
       "       max_detections_per_class: 100\n",
       "       max_total_detections: 100\n",
       "       use_static_shapes: false\n",
       "     }\n",
       "     score_converter: SIGMOID\n",
       "   }\n",
       "   normalize_loss_by_num_matches: true\n",
       "   loss {\n",
       "     localization_loss {\n",
       "       weighted_smooth_l1 {\n",
       "       }\n",
       "     }\n",
       "     classification_loss {\n",
       "       weighted_sigmoid_focal {\n",
       "         gamma: 2.0\n",
       "         alpha: 0.25\n",
       "       }\n",
       "     }\n",
       "     classification_weight: 1.0\n",
       "     localization_weight: 1.0\n",
       "   }\n",
       "   encode_background_as_zeros: true\n",
       "   normalize_loc_loss_by_codesize: true\n",
       "   inplace_batchnorm_update: true\n",
       "   freeze_batchnorm: false\n",
       " },\n",
       " 'train_config': batch_size: 4\n",
       " data_augmentation_options {\n",
       "   random_horizontal_flip {\n",
       "   }\n",
       " }\n",
       " data_augmentation_options {\n",
       "   random_crop_image {\n",
       "     min_object_covered: 0.0\n",
       "     min_aspect_ratio: 0.75\n",
       "     max_aspect_ratio: 3.0\n",
       "     min_area: 0.75\n",
       "     max_area: 1.0\n",
       "     overlap_thresh: 0.0\n",
       "   }\n",
       " }\n",
       " sync_replicas: true\n",
       " optimizer {\n",
       "   momentum_optimizer {\n",
       "     learning_rate {\n",
       "       cosine_decay_learning_rate {\n",
       "         learning_rate_base: 0.08\n",
       "         total_steps: 50000\n",
       "         warmup_learning_rate: 0.026666\n",
       "         warmup_steps: 1000\n",
       "       }\n",
       "     }\n",
       "     momentum_optimizer_value: 0.9\n",
       "   }\n",
       "   use_moving_average: false\n",
       " }\n",
       " fine_tune_checkpoint: \"Tensorflow/workspace/pre-trained-models/ssd_mobilenet_v2_fpnlite_320x320_coco17_tpu-8/checkpoint/ckpt-0\"\n",
       " num_steps: 50000\n",
       " startup_delay_steps: 0.0\n",
       " replicas_to_aggregate: 8\n",
       " max_number_of_boxes: 100\n",
       " unpad_groundtruth_tensors: false\n",
       " fine_tune_checkpoint_type: \"detection\"\n",
       " fine_tune_checkpoint_version: V2,\n",
       " 'train_input_config': label_map_path: \"Tensorflow/workspace/annotations/label_map.pbtxt\"\n",
       " tf_record_input_reader {\n",
       "   input_path: \"Tensorflow/workspace/annotations/train.record\"\n",
       " },\n",
       " 'eval_config': metrics_set: \"coco_detection_metrics\"\n",
       " use_moving_averages: false,\n",
       " 'eval_input_configs': [label_map_path: \"Tensorflow/workspace/annotations/label_map.pbtxt\"\n",
       " shuffle: false\n",
       " num_epochs: 1\n",
       " tf_record_input_reader {\n",
       "   input_path: \"Tensorflow/workspace/annotations/test.record\"\n",
       " }\n",
       " ],\n",
       " 'eval_input_config': label_map_path: \"Tensorflow/workspace/annotations/label_map.pbtxt\"\n",
       " shuffle: false\n",
       " num_epochs: 1\n",
       " tf_record_input_reader {\n",
       "   input_path: \"Tensorflow/workspace/annotations/test.record\"\n",
       " }}"
      ]
     },
     "execution_count": 10,
     "metadata": {},
     "output_type": "execute_result"
    }
   ],
   "source": [
    "config"
   ]
  },
  {
   "cell_type": "code",
   "execution_count": null,
   "metadata": {},
   "outputs": [],
   "source": [
    "pipeline_config = pipeline_pb2.TrainEvalPipelineConfig()\n",
    "with tf.io.gfile.GFile(CONFIG_PATH, \"r\") as f:                                                                                                                                                                                                                     \n",
    "    proto_str = f.read()                                                                                                                                                                                                                                          \n",
    "    text_format.Merge(proto_str, pipeline_config)  "
   ]
  },
  {
   "cell_type": "code",
   "execution_count": null,
   "metadata": {},
   "outputs": [],
   "source": [
    "pipeline_config.model.ssd.num_classes = 2\n",
    "pipeline_config.train_config.batch_size = 4\n",
    "pipeline_config.train_config.fine_tune_checkpoint = PRETRAINED_MODEL_PATH+'/ssd_mobilenet_v2_fpnlite_320x320_coco17_tpu-8/checkpoint/ckpt-0'\n",
    "pipeline_config.train_config.fine_tune_checkpoint_type = \"detection\"\n",
    "pipeline_config.train_input_reader.label_map_path= ANNOTATION_PATH + '/label_map.pbtxt'\n",
    "pipeline_config.train_input_reader.tf_record_input_reader.input_path[:] = [ANNOTATION_PATH + '/train.record']\n",
    "pipeline_config.eval_input_reader[0].label_map_path = ANNOTATION_PATH + '/label_map.pbtxt'\n",
    "pipeline_config.eval_input_reader[0].tf_record_input_reader.input_path[:] = [ANNOTATION_PATH + '/test.record']"
   ]
  },
  {
   "cell_type": "code",
   "execution_count": null,
   "metadata": {},
   "outputs": [],
   "source": [
    "config_text = text_format.MessageToString(pipeline_config)                                                                                                                                                                                                        \n",
    "with tf.io.gfile.GFile(CONFIG_PATH, \"wb\") as f:                                                                                                                                                                                                                     \n",
    "    f.write(config_text)   "
   ]
  },
  {
   "cell_type": "markdown",
   "metadata": {},
   "source": [
    "# 6. Train the model"
   ]
  },
  {
   "cell_type": "code",
   "execution_count": null,
   "metadata": {},
   "outputs": [],
   "source": [
    "print(\"\"\"python {}/research/object_detection/model_main_tf2.py --model_dir={}/{} --pipeline_config_path={}/{}/pipeline.config --num_train_steps=10000\"\"\".format(APIMODEL_PATH, MODEL_PATH,CUSTOM_MODEL_NAME,MODEL_PATH,CUSTOM_MODEL_NAME))"
   ]
  },
  {
   "cell_type": "markdown",
   "metadata": {},
   "source": [
    "# 7. Load Train Model From Checkpoint"
   ]
  },
  {
   "cell_type": "code",
   "execution_count": 7,
   "metadata": {},
   "outputs": [
    {
     "name": "stdout",
     "output_type": "stream",
     "text": [
      "Requirement already satisfied: tf-models-official in c:\\users\\heidi\\anaconda3\\lib\\site-packages (2.4.0)\n",
      "Requirement already satisfied: gin-config in c:\\users\\heidi\\anaconda3\\lib\\site-packages (from tf-models-official) (0.4.0)\n",
      "Requirement already satisfied: tensorflow-model-optimization>=0.4.1 in c:\\users\\heidi\\anaconda3\\lib\\site-packages (from tf-models-official) (0.5.0)\n",
      "Requirement already satisfied: google-api-python-client>=1.6.7 in c:\\users\\heidi\\anaconda3\\lib\\site-packages (from tf-models-official) (2.2.0)\n",
      "Requirement already satisfied: seqeval in c:\\users\\heidi\\anaconda3\\lib\\site-packages (from tf-models-official) (1.2.2)\n",
      "Requirement already satisfied: psutil>=5.4.3 in c:\\users\\heidi\\anaconda3\\lib\\site-packages (from tf-models-official) (5.7.2)\n",
      "Requirement already satisfied: pycocotools in c:\\users\\heidi\\anaconda3\\lib\\site-packages (from tf-models-official) (2.0.2)\n",
      "Requirement already satisfied: tensorflow-datasets in c:\\users\\heidi\\anaconda3\\lib\\site-packages (from tf-models-official) (4.2.0)\n",
      "Requirement already satisfied: oauth2client in c:\\users\\heidi\\anaconda3\\lib\\site-packages (from tf-models-official) (4.1.3)\n",
      "Requirement already satisfied: Cython in c:\\users\\heidi\\anaconda3\\lib\\site-packages (from tf-models-official) (0.29.21)\n",
      "Requirement already satisfied: tf-slim>=1.1.0 in c:\\users\\heidi\\anaconda3\\lib\\site-packages (from tf-models-official) (1.1.0)\n",
      "Requirement already satisfied: pandas>=0.22.0 in c:\\users\\heidi\\anaconda3\\lib\\site-packages (from tf-models-official) (1.1.3)\n",
      "Requirement already satisfied: dataclasses in c:\\users\\heidi\\anaconda3\\lib\\site-packages (from tf-models-official) (0.6)\n",
      "Requirement already satisfied: scipy>=0.19.1 in c:\\users\\heidi\\anaconda3\\lib\\site-packages (from tf-models-official) (1.4.1)\n",
      "Requirement already satisfied: sentencepiece in c:\\users\\heidi\\anaconda3\\lib\\site-packages (from tf-models-official) (0.1.95)\n",
      "Requirement already satisfied: matplotlib in c:\\users\\heidi\\anaconda3\\lib\\site-packages (from tf-models-official) (3.3.2)\n",
      "Requirement already satisfied: numpy>=1.15.4 in c:\\users\\heidi\\anaconda3\\lib\\site-packages (from tf-models-official) (1.20.2)\n",
      "Requirement already satisfied: pyyaml>=5.1 in c:\\users\\heidi\\anaconda3\\lib\\site-packages (from tf-models-official) (5.3.1)\n",
      "Requirement already satisfied: Pillow in c:\\users\\heidi\\anaconda3\\lib\\site-packages (from tf-models-official) (8.0.1)\n",
      "Requirement already satisfied: kaggle>=1.3.9 in c:\\users\\heidi\\anaconda3\\lib\\site-packages (from tf-models-official) (1.5.12)\n",
      "Requirement already satisfied: tensorflow>=2.4.0 in c:\\users\\heidi\\anaconda3\\lib\\site-packages (from tf-models-official) (2.4.1)\n",
      "Requirement already satisfied: py-cpuinfo>=3.3.0 in c:\\users\\heidi\\anaconda3\\lib\\site-packages (from tf-models-official) (8.0.0)\n",
      "Requirement already satisfied: six in c:\\users\\heidi\\anaconda3\\lib\\site-packages (from tf-models-official) (1.15.0)\n",
      "Requirement already satisfied: google-cloud-bigquery>=0.31.0 in c:\\users\\heidi\\anaconda3\\lib\\site-packages (from tf-models-official) (2.13.1)\n",
      "Requirement already satisfied: tensorflow-addons in c:\\users\\heidi\\anaconda3\\lib\\site-packages (from tf-models-official) (0.12.1)\n",
      "Requirement already satisfied: opencv-python-headless in c:\\users\\heidi\\anaconda3\\lib\\site-packages (from tf-models-official) (4.5.1.48)\n",
      "Requirement already satisfied: tensorflow-hub>=0.6.0 in c:\\users\\heidi\\anaconda3\\lib\\site-packages (from tf-models-official) (0.12.0)\n",
      "Requirement already satisfied: dm-tree~=0.1.1 in c:\\users\\heidi\\anaconda3\\lib\\site-packages (from tensorflow-model-optimization>=0.4.1->tf-models-official) (0.1.6)\n",
      "Requirement already satisfied: uritemplate<4dev,>=3.0.0 in c:\\users\\heidi\\anaconda3\\lib\\site-packages (from google-api-python-client>=1.6.7->tf-models-official) (3.0.1)\n",
      "Requirement already satisfied: google-auth<2dev,>=1.16.0 in c:\\users\\heidi\\anaconda3\\lib\\site-packages (from google-api-python-client>=1.6.7->tf-models-official) (1.29.0)\n",
      "Requirement already satisfied: google-api-core<2dev,>=1.21.0 in c:\\users\\heidi\\anaconda3\\lib\\site-packages (from google-api-python-client>=1.6.7->tf-models-official) (1.26.3)\n",
      "Requirement already satisfied: google-auth-httplib2>=0.1.0 in c:\\users\\heidi\\anaconda3\\lib\\site-packages (from google-api-python-client>=1.6.7->tf-models-official) (0.1.0)\n",
      "Requirement already satisfied: httplib2<1dev,>=0.15.0 in c:\\users\\heidi\\anaconda3\\lib\\site-packages (from google-api-python-client>=1.6.7->tf-models-official) (0.19.1)\n",
      "Requirement already satisfied: scikit-learn>=0.21.3 in c:\\users\\heidi\\anaconda3\\lib\\site-packages (from seqeval->tf-models-official) (0.23.2)\n",
      "Requirement already satisfied: setuptools>=18.0 in c:\\users\\heidi\\anaconda3\\lib\\site-packages (from pycocotools->tf-models-official) (56.0.0)\n",
      "Requirement already satisfied: future in c:\\users\\heidi\\anaconda3\\lib\\site-packages (from tensorflow-datasets->tf-models-official) (0.18.2)\n",
      "Requirement already satisfied: dill in c:\\users\\heidi\\anaconda3\\lib\\site-packages (from tensorflow-datasets->tf-models-official) (0.3.3)\n",
      "Requirement already satisfied: protobuf>=3.12.2 in c:\\users\\heidi\\anaconda3\\lib\\site-packages (from tensorflow-datasets->tf-models-official) (3.15.8)\n",
      "Requirement already satisfied: importlib-resources; python_version < \"3.9\" in c:\\users\\heidi\\anaconda3\\lib\\site-packages (from tensorflow-datasets->tf-models-official) (5.1.2)\n",
      "Requirement already satisfied: absl-py in c:\\users\\heidi\\anaconda3\\lib\\site-packages (from tensorflow-datasets->tf-models-official) (0.12.0)\n",
      "Requirement already satisfied: promise in c:\\users\\heidi\\anaconda3\\lib\\site-packages (from tensorflow-datasets->tf-models-official) (2.3)\n",
      "Requirement already satisfied: tensorflow-metadata in c:\\users\\heidi\\anaconda3\\lib\\site-packages (from tensorflow-datasets->tf-models-official) (0.29.0)\n",
      "Requirement already satisfied: termcolor in c:\\users\\heidi\\anaconda3\\lib\\site-packages (from tensorflow-datasets->tf-models-official) (1.1.0)\n",
      "Requirement already satisfied: tqdm in c:\\users\\heidi\\anaconda3\\lib\\site-packages (from tensorflow-datasets->tf-models-official) (4.50.2)\n",
      "Requirement already satisfied: requests>=2.19.0 in c:\\users\\heidi\\anaconda3\\lib\\site-packages (from tensorflow-datasets->tf-models-official) (2.25.1)\n",
      "Requirement already satisfied: attrs>=18.1.0 in c:\\users\\heidi\\anaconda3\\lib\\site-packages (from tensorflow-datasets->tf-models-official) (20.3.0)\n",
      "Requirement already satisfied: pyasn1-modules>=0.0.5 in c:\\users\\heidi\\anaconda3\\lib\\site-packages (from oauth2client->tf-models-official) (0.2.8)\n",
      "Requirement already satisfied: pyasn1>=0.1.7 in c:\\users\\heidi\\anaconda3\\lib\\site-packages (from oauth2client->tf-models-official) (0.4.8)\n",
      "Requirement already satisfied: rsa>=3.1.4 in c:\\users\\heidi\\anaconda3\\lib\\site-packages (from oauth2client->tf-models-official) (4.7.2)\n",
      "Requirement already satisfied: pytz>=2017.2 in c:\\users\\heidi\\anaconda3\\lib\\site-packages (from pandas>=0.22.0->tf-models-official) (2020.1)\n",
      "Requirement already satisfied: python-dateutil>=2.7.3 in c:\\users\\heidi\\anaconda3\\lib\\site-packages (from pandas>=0.22.0->tf-models-official) (2.8.1)\n",
      "Requirement already satisfied: certifi>=2020.06.20 in c:\\users\\heidi\\anaconda3\\lib\\site-packages (from matplotlib->tf-models-official) (2020.12.5)\n",
      "Requirement already satisfied: cycler>=0.10 in c:\\users\\heidi\\anaconda3\\lib\\site-packages (from matplotlib->tf-models-official) (0.10.0)\n",
      "Requirement already satisfied: kiwisolver>=1.0.1 in c:\\users\\heidi\\anaconda3\\lib\\site-packages (from matplotlib->tf-models-official) (1.3.0)\n",
      "Requirement already satisfied: pyparsing!=2.0.4,!=2.1.2,!=2.1.6,>=2.0.3 in c:\\users\\heidi\\anaconda3\\lib\\site-packages (from matplotlib->tf-models-official) (2.4.7)\n",
      "Requirement already satisfied: urllib3 in c:\\users\\heidi\\anaconda3\\lib\\site-packages (from kaggle>=1.3.9->tf-models-official) (1.26.4)\n",
      "Requirement already satisfied: python-slugify in c:\\users\\heidi\\anaconda3\\lib\\site-packages (from kaggle>=1.3.9->tf-models-official) (4.0.1)\n",
      "Requirement already satisfied: google-pasta~=0.2 in c:\\users\\heidi\\anaconda3\\lib\\site-packages (from tensorflow>=2.4.0->tf-models-official) (0.2.0)\n",
      "Requirement already satisfied: flatbuffers~=1.12.0 in c:\\users\\heidi\\anaconda3\\lib\\site-packages (from tensorflow>=2.4.0->tf-models-official) (1.12)\n",
      "Requirement already satisfied: wrapt~=1.12.1 in c:\\users\\heidi\\anaconda3\\lib\\site-packages (from tensorflow>=2.4.0->tf-models-official) (1.12.1)\n",
      "Requirement already satisfied: tensorboard~=2.4 in c:\\users\\heidi\\anaconda3\\lib\\site-packages (from tensorflow>=2.4.0->tf-models-official) (2.4.1)\n",
      "Requirement already satisfied: wheel~=0.35 in c:\\users\\heidi\\anaconda3\\lib\\site-packages (from tensorflow>=2.4.0->tf-models-official) (0.36.2)\n",
      "Requirement already satisfied: h5py~=2.10.0 in c:\\users\\heidi\\anaconda3\\lib\\site-packages (from tensorflow>=2.4.0->tf-models-official) (2.10.0)\n",
      "Requirement already satisfied: tensorflow-estimator<2.5.0,>=2.4.0 in c:\\users\\heidi\\anaconda3\\lib\\site-packages (from tensorflow>=2.4.0->tf-models-official) (2.4.0)\n",
      "Requirement already satisfied: grpcio~=1.32.0 in c:\\users\\heidi\\anaconda3\\lib\\site-packages (from tensorflow>=2.4.0->tf-models-official) (1.32.0)\n",
      "Requirement already satisfied: astunparse~=1.6.3 in c:\\users\\heidi\\anaconda3\\lib\\site-packages (from tensorflow>=2.4.0->tf-models-official) (1.6.3)\n",
      "Requirement already satisfied: opt-einsum~=3.3.0 in c:\\users\\heidi\\anaconda3\\lib\\site-packages (from tensorflow>=2.4.0->tf-models-official) (3.3.0)\n",
      "Requirement already satisfied: gast==0.3.3 in c:\\users\\heidi\\anaconda3\\lib\\site-packages (from tensorflow>=2.4.0->tf-models-official) (0.3.3)\n",
      "Requirement already satisfied: typing-extensions~=3.7.4 in c:\\users\\heidi\\anaconda3\\lib\\site-packages (from tensorflow>=2.4.0->tf-models-official) (3.7.4.3)\n",
      "Requirement already satisfied: keras-preprocessing~=1.1.2 in c:\\users\\heidi\\anaconda3\\lib\\site-packages (from tensorflow>=2.4.0->tf-models-official) (1.1.2)\n",
      "Requirement already satisfied: google-resumable-media<2.0dev,>=0.6.0 in c:\\users\\heidi\\anaconda3\\lib\\site-packages (from google-cloud-bigquery>=0.31.0->tf-models-official) (1.2.0)\n",
      "Requirement already satisfied: packaging>=14.3 in c:\\users\\heidi\\anaconda3\\lib\\site-packages (from google-cloud-bigquery>=0.31.0->tf-models-official) (20.4)\n",
      "Requirement already satisfied: proto-plus>=1.10.0 in c:\\users\\heidi\\anaconda3\\lib\\site-packages (from google-cloud-bigquery>=0.31.0->tf-models-official) (1.18.1)\n",
      "Requirement already satisfied: google-cloud-core<2.0dev,>=1.4.1 in c:\\users\\heidi\\anaconda3\\lib\\site-packages (from google-cloud-bigquery>=0.31.0->tf-models-official) (1.6.0)\n",
      "Requirement already satisfied: typeguard>=2.7 in c:\\users\\heidi\\anaconda3\\lib\\site-packages (from tensorflow-addons->tf-models-official) (2.12.0)\n",
      "Requirement already satisfied: cachetools<5.0,>=2.0.0 in c:\\users\\heidi\\anaconda3\\lib\\site-packages (from google-auth<2dev,>=1.16.0->google-api-python-client>=1.6.7->tf-models-official) (4.2.1)\n",
      "Requirement already satisfied: googleapis-common-protos<2.0dev,>=1.6.0 in c:\\users\\heidi\\anaconda3\\lib\\site-packages (from google-api-core<2dev,>=1.21.0->google-api-python-client>=1.6.7->tf-models-official) (1.53.0)\n",
      "Requirement already satisfied: threadpoolctl>=2.0.0 in c:\\users\\heidi\\anaconda3\\lib\\site-packages (from scikit-learn>=0.21.3->seqeval->tf-models-official) (2.1.0)\n",
      "Requirement already satisfied: joblib>=0.11 in c:\\users\\heidi\\anaconda3\\lib\\site-packages (from scikit-learn>=0.21.3->seqeval->tf-models-official) (0.17.0)\n",
      "Requirement already satisfied: idna<3,>=2.5 in c:\\users\\heidi\\anaconda3\\lib\\site-packages (from requests>=2.19.0->tensorflow-datasets->tf-models-official) (2.10)\n",
      "Requirement already satisfied: chardet<5,>=3.0.2 in c:\\users\\heidi\\anaconda3\\lib\\site-packages (from requests>=2.19.0->tensorflow-datasets->tf-models-official) (4.0.0)\n",
      "Requirement already satisfied: text-unidecode>=1.3 in c:\\users\\heidi\\anaconda3\\lib\\site-packages (from python-slugify->kaggle>=1.3.9->tf-models-official) (1.3)\n",
      "Requirement already satisfied: markdown>=2.6.8 in c:\\users\\heidi\\anaconda3\\lib\\site-packages (from tensorboard~=2.4->tensorflow>=2.4.0->tf-models-official) (3.3.4)\n",
      "Requirement already satisfied: tensorboard-plugin-wit>=1.6.0 in c:\\users\\heidi\\anaconda3\\lib\\site-packages (from tensorboard~=2.4->tensorflow>=2.4.0->tf-models-official) (1.8.0)\n",
      "Requirement already satisfied: google-auth-oauthlib<0.5,>=0.4.1 in c:\\users\\heidi\\anaconda3\\lib\\site-packages (from tensorboard~=2.4->tensorflow>=2.4.0->tf-models-official) (0.4.4)\n",
      "Requirement already satisfied: werkzeug>=0.11.15 in c:\\users\\heidi\\anaconda3\\lib\\site-packages (from tensorboard~=2.4->tensorflow>=2.4.0->tf-models-official) (1.0.1)\n",
      "Requirement already satisfied: google-crc32c<2.0dev,>=1.0; python_version >= \"3.5\" in c:\\users\\heidi\\anaconda3\\lib\\site-packages (from google-resumable-media<2.0dev,>=0.6.0->google-cloud-bigquery>=0.31.0->tf-models-official) (1.1.2)\n",
      "Requirement already satisfied: requests-oauthlib>=0.7.0 in c:\\users\\heidi\\anaconda3\\lib\\site-packages (from google-auth-oauthlib<0.5,>=0.4.1->tensorboard~=2.4->tensorflow>=2.4.0->tf-models-official) (1.3.0)\n",
      "Requirement already satisfied: cffi>=1.0.0 in c:\\users\\heidi\\anaconda3\\lib\\site-packages (from google-crc32c<2.0dev,>=1.0; python_version >= \"3.5\"->google-resumable-media<2.0dev,>=0.6.0->google-cloud-bigquery>=0.31.0->tf-models-official) (1.14.3)\n",
      "Requirement already satisfied: oauthlib>=3.0.0 in c:\\users\\heidi\\anaconda3\\lib\\site-packages (from requests-oauthlib>=0.7.0->google-auth-oauthlib<0.5,>=0.4.1->tensorboard~=2.4->tensorflow>=2.4.0->tf-models-official) (3.1.0)\n",
      "Requirement already satisfied: pycparser in c:\\users\\heidi\\anaconda3\\lib\\site-packages (from cffi>=1.0.0->google-crc32c<2.0dev,>=1.0; python_version >= \"3.5\"->google-resumable-media<2.0dev,>=0.6.0->google-cloud-bigquery>=0.31.0->tf-models-official) (2.20)\n"
     ]
    }
   ],
   "source": [
    "!pip install tf-models-official"
   ]
  },
  {
   "cell_type": "code",
   "execution_count": 11,
   "metadata": {
    "scrolled": true
   },
   "outputs": [],
   "source": [
    "import os\n",
    "from object_detection.utils import label_map_util\n",
    "from object_detection.utils import visualization_utils as viz_utils\n",
    "from object_detection.builders import model_builder"
   ]
  },
  {
   "cell_type": "code",
   "execution_count": 12,
   "metadata": {
    "scrolled": true
   },
   "outputs": [],
   "source": [
    "# Load pipeline config and build a detection model\n",
    "configs = config_util.get_configs_from_pipeline_file(CONFIG_PATH)\n",
    "detection_model = model_builder.build(model_config=configs['model'], is_training=False)\n",
    "\n",
    "# Restore checkpoint\n",
    "ckpt = tf.compat.v2.train.Checkpoint(model=detection_model)\n",
    "ckpt.restore(os.path.join(CHECKPOINT_PATH, 'ckpt-2')).expect_partial()\n",
    "\n",
    "@tf.function\n",
    "def detect_fn(image):\n",
    "    image, shapes = detection_model.preprocess(image)\n",
    "    prediction_dict = detection_model.predict(image, shapes)\n",
    "    detections = detection_model.postprocess(prediction_dict, shapes)\n",
    "    return detections"
   ]
  },
  {
   "cell_type": "markdown",
   "metadata": {},
   "source": [
    "# 8. Detect in Real-Time"
   ]
  },
  {
   "cell_type": "code",
   "execution_count": 13,
   "metadata": {},
   "outputs": [],
   "source": [
    "import cv2 \n",
    "import numpy as np"
   ]
  },
  {
   "cell_type": "code",
   "execution_count": 14,
   "metadata": {},
   "outputs": [],
   "source": [
    "category_index = label_map_util.create_category_index_from_labelmap(ANNOTATION_PATH+'/label_map.pbtxt')"
   ]
  },
  {
   "cell_type": "code",
   "execution_count": 49,
   "metadata": {},
   "outputs": [],
   "source": [
    "# Setup capture\n",
    "cap = cv2.VideoCapture(0)\n",
    "# width = int(cap.get(cv2.CAP_PROP_FRAME_WIDTH))\n",
    "# height = int(cap.get(cv2.CAP_PROP_FRAME_HEIGHT))"
   ]
  },
  {
   "cell_type": "code",
   "execution_count": 15,
   "metadata": {},
   "outputs": [
    {
     "name": "stdout",
     "output_type": "stream",
     "text": [
      "[[[ 94  92  72]\n",
      "  [ 95  93  73]\n",
      "  [ 93  90  79]\n",
      "  ...\n",
      "  [ 94  97  89]\n",
      "  [ 94  96  91]\n",
      "  [ 94  96  91]]\n",
      "\n",
      " [[112 109  89]\n",
      "  [112 109  89]\n",
      "  [110 106  96]\n",
      "  ...\n",
      "  [ 94  97  89]\n",
      "  [ 94  96  91]\n",
      "  [ 94  96  91]]\n",
      "\n",
      " [[107 102  89]\n",
      "  [107 102  89]\n",
      "  [107 102  89]\n",
      "  ...\n",
      "  [ 93  95  90]\n",
      "  [ 93  96  88]\n",
      "  [ 93  96  88]]\n",
      "\n",
      " ...\n",
      "\n",
      " [[133 130 119]\n",
      "  [133 130 119]\n",
      "  [135 132 114]\n",
      "  ...\n",
      "  [109 107  98]\n",
      "  [ 84  77  69]\n",
      "  [ 84  77  69]]\n",
      "\n",
      " [[131 131 117]\n",
      "  [132 132 118]\n",
      "  [133 131 117]\n",
      "  ...\n",
      "  [122 125 116]\n",
      "  [ 84  72  67]\n",
      "  [ 85  73  69]]\n",
      "\n",
      " [[132 132 118]\n",
      "  [132 132 118]\n",
      "  [133 131 117]\n",
      "  ...\n",
      "  [125 128 118]\n",
      "  [ 83  71  66]\n",
      "  [ 85  73  69]]]\n"
     ]
    },
    {
     "ename": "error",
     "evalue": "OpenCV(4.5.1) C:\\Users\\appveyor\\AppData\\Local\\Temp\\1\\pip-req-build-1drr4hl0\\opencv\\modules\\highgui\\src\\window.cpp:651: error: (-2:Unspecified error) The function is not implemented. Rebuild the library with Windows, GTK+ 2.x or Cocoa support. If you are on Ubuntu or Debian, install libgtk2.0-dev and pkg-config, then re-run cmake or configure script in function 'cvShowImage'\n",
     "output_type": "error",
     "traceback": [
      "\u001b[1;31m-----------------------------------------------------\u001b[0m",
      "\u001b[1;31merror\u001b[0m               Traceback (most recent call last)",
      "\u001b[1;32m<ipython-input-15-4f568bcdad48>\u001b[0m in \u001b[0;36m<module>\u001b[1;34m\u001b[0m\n\u001b[0;32m     30\u001b[0m                 agnostic_mode=False)\n\u001b[0;32m     31\u001b[0m \u001b[1;33m\u001b[0m\u001b[0m\n\u001b[1;32m---> 32\u001b[1;33m     \u001b[0mcv2\u001b[0m\u001b[1;33m.\u001b[0m\u001b[0mimshow\u001b[0m\u001b[1;33m(\u001b[0m\u001b[1;34m'object detection'\u001b[0m\u001b[1;33m,\u001b[0m  \u001b[0mcv2\u001b[0m\u001b[1;33m.\u001b[0m\u001b[0mresize\u001b[0m\u001b[1;33m(\u001b[0m\u001b[0mimage_np_with_detections\u001b[0m\u001b[1;33m,\u001b[0m \u001b[1;33m(\u001b[0m\u001b[1;36m800\u001b[0m\u001b[1;33m,\u001b[0m \u001b[1;36m600\u001b[0m\u001b[1;33m)\u001b[0m\u001b[1;33m)\u001b[0m\u001b[1;33m)\u001b[0m\u001b[1;33m\u001b[0m\u001b[1;33m\u001b[0m\u001b[0m\n\u001b[0m\u001b[0;32m     33\u001b[0m \u001b[1;33m\u001b[0m\u001b[0m\n\u001b[0;32m     34\u001b[0m     \u001b[1;32mif\u001b[0m \u001b[0mcv2\u001b[0m\u001b[1;33m.\u001b[0m\u001b[0mwaitKey\u001b[0m\u001b[1;33m(\u001b[0m\u001b[1;36m1\u001b[0m\u001b[1;33m)\u001b[0m \u001b[1;33m&\u001b[0m \u001b[1;36m0xFF\u001b[0m \u001b[1;33m==\u001b[0m \u001b[0mord\u001b[0m\u001b[1;33m(\u001b[0m\u001b[1;34m'q'\u001b[0m\u001b[1;33m)\u001b[0m\u001b[1;33m:\u001b[0m\u001b[1;33m\u001b[0m\u001b[1;33m\u001b[0m\u001b[0m\n",
      "\u001b[1;31merror\u001b[0m: OpenCV(4.5.1) C:\\Users\\appveyor\\AppData\\Local\\Temp\\1\\pip-req-build-1drr4hl0\\opencv\\modules\\highgui\\src\\window.cpp:651: error: (-2:Unspecified error) The function is not implemented. Rebuild the library with Windows, GTK+ 2.x or Cocoa support. If you are on Ubuntu or Debian, install libgtk2.0-dev and pkg-config, then re-run cmake or configure script in function 'cvShowImage'\n"
     ]
    }
   ],
   "source": [
    "cap = cv2.VideoCapture(0)\n",
    "while True: \n",
    "    ret, frame = cap.read()\n",
    "    print(frame)\n",
    "    image_np = np.array(frame)\n",
    "    \n",
    "    input_tensor = tf.convert_to_tensor(np.expand_dims(image_np, 0), dtype=tf.float32)\n",
    "    detections = detect_fn(input_tensor)\n",
    "    \n",
    "    num_detections = int(detections.pop('num_detections'))\n",
    "    detections = {key: value[0, :num_detections].numpy()\n",
    "                  for key, value in detections.items()}\n",
    "    detections['num_detections'] = num_detections\n",
    "\n",
    "    # detection_classes should be ints.\n",
    "    detections['detection_classes'] = detections['detection_classes'].astype(np.int64)\n",
    "\n",
    "    label_id_offset = 1\n",
    "    image_np_with_detections = image_np.copy()\n",
    "\n",
    "    viz_utils.visualize_boxes_and_labels_on_image_array(\n",
    "                image_np_with_detections,\n",
    "                detections['detection_boxes'],\n",
    "                detections['detection_classes']+label_id_offset,\n",
    "                detections['detection_scores'],\n",
    "                category_index,\n",
    "                use_normalized_coordinates=True,\n",
    "                max_boxes_to_draw=5,\n",
    "                min_score_thresh=.5,\n",
    "                agnostic_mode=False)\n",
    "\n",
    "    cv2.imshow('object detection',  cv2.resize(image_np_with_detections, (800, 600)))\n",
    "    \n",
    "    if cv2.waitKey(1) & 0xFF == ord('q'):\n",
    "        cap.release()\n",
    "        break\n",
    "cap.release()\n",
    "cv2.destroyAllWindows()"
   ]
  },
  {
   "cell_type": "code",
   "execution_count": null,
   "metadata": {},
   "outputs": [],
   "source": [
    "input_tensor"
   ]
  },
  {
   "cell_type": "code",
   "execution_count": null,
   "metadata": {},
   "outputs": [],
   "source": [
    "from matplotlib import pyplot as plt"
   ]
  },
  {
   "cell_type": "code",
   "execution_count": 43,
   "metadata": {},
   "outputs": [
    {
     "data": {
      "text/plain": [
       "array(None, dtype=object)"
      ]
     },
     "execution_count": 43,
     "metadata": {},
     "output_type": "execute_result"
    }
   ],
   "source": [
    "image_np"
   ]
  },
  {
   "cell_type": "code",
   "execution_count": 19,
   "metadata": {},
   "outputs": [
    {
     "data": {
      "text/plain": [
       "array([[[ 94,  92,  72],\n",
       "        [ 94,  93,  73],\n",
       "        [ 94,  91,  76],\n",
       "        ...,\n",
       "        [ 94,  96,  90],\n",
       "        [ 94,  96,  91],\n",
       "        [ 94,  96,  91]],\n",
       "\n",
       "       [[106, 104,  84],\n",
       "        [107, 104,  84],\n",
       "        [106, 103,  88],\n",
       "        ...,\n",
       "        [ 94,  96,  90],\n",
       "        [ 94,  96,  91],\n",
       "        [ 94,  96,  91]],\n",
       "\n",
       "       [[110, 106,  89],\n",
       "        [110, 106,  89],\n",
       "        [109, 105,  91],\n",
       "        ...,\n",
       "        [ 94,  96,  90],\n",
       "        [ 94,  96,  90],\n",
       "        [ 94,  96,  90]],\n",
       "\n",
       "       ...,\n",
       "\n",
       "       [[132, 131, 118],\n",
       "        [132, 131, 118],\n",
       "        [133, 131, 117],\n",
       "        ...,\n",
       "        [100,  95,  88],\n",
       "        [ 84,  75,  68],\n",
       "        [ 85,  75,  69]],\n",
       "\n",
       "       [[131, 131, 117],\n",
       "        [132, 132, 118],\n",
       "        [132, 131, 117],\n",
       "        ...,\n",
       "        [103,  99,  92],\n",
       "        [ 84,  72,  67],\n",
       "        [ 85,  73,  69]],\n",
       "\n",
       "       [[132, 132, 118],\n",
       "        [132, 132, 118],\n",
       "        [132, 131, 117],\n",
       "        ...,\n",
       "        [104,  99,  92],\n",
       "        [ 83,  71,  67],\n",
       "        [ 85,  73,  69]]], dtype=uint8)"
      ]
     },
     "execution_count": 19,
     "metadata": {},
     "output_type": "execute_result"
    }
   ],
   "source": [
    "cv2.resize(image_np_with_detections, (800, 600))"
   ]
  },
  {
   "cell_type": "code",
   "execution_count": 22,
   "metadata": {},
   "outputs": [
    {
     "name": "stdout",
     "output_type": "stream",
     "text": [
      "Requirement already up-to-date: opencv-python in c:\\users\\heidi\\anaconda3\\lib\\site-packages (4.5.1.48)\n",
      "Requirement already satisfied, skipping upgrade: numpy>=1.17.3 in c:\\users\\heidi\\anaconda3\\lib\\site-packages (from opencv-python) (1.20.2)\n"
     ]
    }
   ],
   "source": [
    "!pip install --upgrade opencv-python"
   ]
  },
  {
   "cell_type": "code",
   "execution_count": 23,
   "metadata": {},
   "outputs": [
    {
     "ename": "error",
     "evalue": "OpenCV(4.5.1) C:\\Users\\appveyor\\AppData\\Local\\Temp\\1\\pip-req-build-1drr4hl0\\opencv\\modules\\highgui\\src\\window.cpp:651: error: (-2:Unspecified error) The function is not implemented. Rebuild the library with Windows, GTK+ 2.x or Cocoa support. If you are on Ubuntu or Debian, install libgtk2.0-dev and pkg-config, then re-run cmake or configure script in function 'cvShowImage'\n",
     "output_type": "error",
     "traceback": [
      "\u001b[1;31m-----------------------------------------------------\u001b[0m",
      "\u001b[1;31merror\u001b[0m               Traceback (most recent call last)",
      "\u001b[1;32m<ipython-input-23-d054f5eb9813>\u001b[0m in \u001b[0;36m<module>\u001b[1;34m\u001b[0m\n\u001b[1;32m----> 1\u001b[1;33m \u001b[0mcv2\u001b[0m\u001b[1;33m.\u001b[0m\u001b[0mimshow\u001b[0m\u001b[1;33m(\u001b[0m\u001b[1;34m'objectdetection'\u001b[0m\u001b[1;33m,\u001b[0m  \u001b[0mcv2\u001b[0m\u001b[1;33m.\u001b[0m\u001b[0mresize\u001b[0m\u001b[1;33m(\u001b[0m\u001b[0mimage_np_with_detections\u001b[0m\u001b[1;33m,\u001b[0m \u001b[1;33m(\u001b[0m\u001b[1;36m800\u001b[0m\u001b[1;33m,\u001b[0m \u001b[1;36m600\u001b[0m\u001b[1;33m)\u001b[0m\u001b[1;33m)\u001b[0m\u001b[1;33m)\u001b[0m\u001b[1;33m\u001b[0m\u001b[1;33m\u001b[0m\u001b[0m\n\u001b[0m",
      "\u001b[1;31merror\u001b[0m: OpenCV(4.5.1) C:\\Users\\appveyor\\AppData\\Local\\Temp\\1\\pip-req-build-1drr4hl0\\opencv\\modules\\highgui\\src\\window.cpp:651: error: (-2:Unspecified error) The function is not implemented. Rebuild the library with Windows, GTK+ 2.x or Cocoa support. If you are on Ubuntu or Debian, install libgtk2.0-dev and pkg-config, then re-run cmake or configure script in function 'cvShowImage'\n"
     ]
    }
   ],
   "source": [
    "cv2.imshow('objectdetection',  cv2.resize(image_np_with_detections, (800, 600)))"
   ]
  },
  {
   "cell_type": "code",
   "execution_count": 16,
   "metadata": {},
   "outputs": [
    {
     "ename": "error",
     "evalue": "OpenCV(4.5.1) C:\\Users\\appveyor\\AppData\\Local\\Temp\\1\\pip-req-build-1drr4hl0\\opencv\\modules\\highgui\\src\\window.cpp:645: error: (-2:Unspecified error) The function is not implemented. Rebuild the library with Windows, GTK+ 2.x or Cocoa support. If you are on Ubuntu or Debian, install libgtk2.0-dev and pkg-config, then re-run cmake or configure script in function 'cvDestroyAllWindows'\n",
     "output_type": "error",
     "traceback": [
      "\u001b[1;31m-----------------------------------------------------\u001b[0m",
      "\u001b[1;31merror\u001b[0m               Traceback (most recent call last)",
      "\u001b[1;32m<ipython-input-16-37d044a27ce5>\u001b[0m in \u001b[0;36m<module>\u001b[1;34m\u001b[0m\n\u001b[0;32m      1\u001b[0m \u001b[0mcap\u001b[0m\u001b[1;33m.\u001b[0m\u001b[0mrelease\u001b[0m\u001b[1;33m(\u001b[0m\u001b[1;33m)\u001b[0m\u001b[1;33m\u001b[0m\u001b[1;33m\u001b[0m\u001b[0m\n\u001b[1;32m----> 2\u001b[1;33m \u001b[0mcv2\u001b[0m\u001b[1;33m.\u001b[0m\u001b[0mdestroyAllWindows\u001b[0m\u001b[1;33m(\u001b[0m\u001b[1;33m)\u001b[0m\u001b[1;33m\u001b[0m\u001b[1;33m\u001b[0m\u001b[0m\n\u001b[0m",
      "\u001b[1;31merror\u001b[0m: OpenCV(4.5.1) C:\\Users\\appveyor\\AppData\\Local\\Temp\\1\\pip-req-build-1drr4hl0\\opencv\\modules\\highgui\\src\\window.cpp:645: error: (-2:Unspecified error) The function is not implemented. Rebuild the library with Windows, GTK+ 2.x or Cocoa support. If you are on Ubuntu or Debian, install libgtk2.0-dev and pkg-config, then re-run cmake or configure script in function 'cvDestroyAllWindows'\n"
     ]
    }
   ],
   "source": [
    "cap.release()\n",
    "cv2.destroyAllWindows()"
   ]
  },
  {
   "cell_type": "code",
   "execution_count": null,
   "metadata": {},
   "outputs": [],
   "source": [
    "!conda remove opencv\n",
    "!conda update conda\n",
    "!conda install --channel menpo opencv"
   ]
  },
  {
   "cell_type": "code",
   "execution_count": null,
   "metadata": {},
   "outputs": [],
   "source": []
  }
 ],
 "metadata": {
  "kernelspec": {
   "display_name": "Python 3",
   "language": "python",
   "name": "python3"
  },
  "language_info": {
   "codemirror_mode": {
    "name": "ipython",
    "version": 3
   },
   "file_extension": ".py",
   "mimetype": "text/x-python",
   "name": "python",
   "nbconvert_exporter": "python",
   "pygments_lexer": "ipython3",
   "version": "3.6.4"
  }
 },
 "nbformat": 4,
 "nbformat_minor": 4
}
